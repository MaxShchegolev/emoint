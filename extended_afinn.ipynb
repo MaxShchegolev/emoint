{
 "cells": [
  {
   "cell_type": "code",
   "execution_count": 1,
   "metadata": {},
   "outputs": [
    {
     "name": "stderr",
     "output_type": "stream",
     "text": [
      "Using TensorFlow backend.\n"
     ]
    }
   ],
   "source": [
    "import pickle\n",
    "import numpy as np\n",
    "import pandas as pd\n",
    "\n",
    "from sklearn.model_selection import GridSearchCV, KFold\n",
    "from keras.wrappers.scikit_learn import KerasRegressor\n",
    "\n",
    "import tensorflow as tf\n",
    "\n",
    "import keras\n",
    "import keras.backend as K\n",
    "\n",
    "from keras.layers.core import Dense, Dropout\n",
    "from keras.models import Sequential\n",
    "from keras.preprocessing.text import Tokenizer,text_to_word_sequence\n",
    "\n",
    "import word2vecReader as w2v_reader\n",
    "\n",
    "from helpers import *\n",
    "\n",
    "\n",
    "pd.set_option('display.max_colwidth',150)\n",
    "\n",
    "config = tf.ConfigProto()\n",
    "config.gpu_options.allow_growth=True\n",
    "sess = tf.Session(config=config)\n",
    "K.set_session(sess)\n",
    "\n",
    "def plot_loss(history, show=True, title=None):\n",
    "    plt.plot(history.history['loss'])\n",
    "    plt.plot(history.history['val_loss'])\n",
    "    if title is None:\n",
    "        plt.title('model loss')\n",
    "    else:\n",
    "        plt.title(title)\n",
    "    plt.ylabel('loss')\n",
    "    plt.xlabel('epoch')\n",
    "    plt.legend(['train', 'test'], loc='upper left')\n",
    "    if show:\n",
    "        plt.show()\n",
    "    \n",
    "    \n",
    "def pearson_loss(y_true, y_pred):\n",
    "    numerator = -K.sum((y_true-K.mean(y_true))*(y_pred-K.mean(y_pred)))\n",
    "    denominator = ( K.sqrt(K.sum((K.square(y_true-K.mean(y_true))))) * K.sqrt(K.sum((K.square(y_pred-K.mean(y_pred)))))\\\n",
    "                   +K.epsilon() )\n",
    "    return numerator/denominator"
   ]
  },
  {
   "cell_type": "code",
   "execution_count": 2,
   "metadata": {},
   "outputs": [],
   "source": [
    "word2vec = w2v_reader.Word2Vec.load_word2vec_format('word_embeddings/word2vec/word2vec_twitter_model/word2vec_twitter_model.bin', binary=True)"
   ]
  },
  {
   "cell_type": "code",
   "execution_count": 3,
   "metadata": {},
   "outputs": [],
   "source": [
    "main_emotions = ['anger','fear','joy','sadness']\n",
    "\n",
    "full_data={}\n",
    "full_Y = {}\n",
    "for emotion in main_emotions:\n",
    "    full_data[emotion] = get_emotion_data(emotion)\n",
    "    for data in full_data[emotion]:\n",
    "        data['cleaned_text'] = data['text'].map(lambda s: text_to_wordlist(s, w2v = word2vec))\n",
    "    full_Y[emotion] = [data['intensity'] for data in full_data[emotion]]"
   ]
  },
  {
   "cell_type": "markdown",
   "metadata": {},
   "source": [
    "# Основная идея"
   ]
  },
  {
   "cell_type": "markdown",
   "metadata": {},
   "source": [
    "У нас есть значения для малого количества слов. Обучим нейронную сеть, которая будет прогнозировать значения для неизвестных слов. В основе будет лежать word2vec представления.  \n",
    "Расширим AFINN"
   ]
  },
  {
   "cell_type": "code",
   "execution_count": 4,
   "metadata": {},
   "outputs": [],
   "source": [
    "kfold = KFold(5, True,42)\n",
    "tokenizer = Tokenizer(filters='\"$%&()*+,-./:;<=>?@[\\\\]^_`{|}~\\t\\n')\n",
    "tokenizer.fit_on_texts(np.hstack([data['cleaned_text'] for data \n",
    "                                  in full_data['anger']+full_data['fear']+full_data['joy']+full_data['sadness']]))"
   ]
  },
  {
   "cell_type": "markdown",
   "metadata": {},
   "source": [
    "# AFINN"
   ]
  },
  {
   "cell_type": "code",
   "execution_count": 5,
   "metadata": {},
   "outputs": [
    {
     "name": "stdout",
     "output_type": "stream",
     "text": [
      "(3382, 2)\n"
     ]
    },
    {
     "data": {
      "text/html": [
       "<div>\n",
       "<style scoped>\n",
       "    .dataframe tbody tr th:only-of-type {\n",
       "        vertical-align: middle;\n",
       "    }\n",
       "\n",
       "    .dataframe tbody tr th {\n",
       "        vertical-align: top;\n",
       "    }\n",
       "\n",
       "    .dataframe thead th {\n",
       "        text-align: right;\n",
       "    }\n",
       "</style>\n",
       "<table border=\"1\" class=\"dataframe\">\n",
       "  <thead>\n",
       "    <tr style=\"text-align: right;\">\n",
       "      <th></th>\n",
       "      <th>term</th>\n",
       "      <th>score</th>\n",
       "    </tr>\n",
       "  </thead>\n",
       "  <tbody>\n",
       "    <tr>\n",
       "      <th>0</th>\n",
       "      <td>abandon</td>\n",
       "      <td>-2</td>\n",
       "    </tr>\n",
       "    <tr>\n",
       "      <th>1</th>\n",
       "      <td>abandoned</td>\n",
       "      <td>-2</td>\n",
       "    </tr>\n",
       "    <tr>\n",
       "      <th>2</th>\n",
       "      <td>abandons</td>\n",
       "      <td>-2</td>\n",
       "    </tr>\n",
       "  </tbody>\n",
       "</table>\n",
       "</div>"
      ],
      "text/plain": [
       "        term  score\n",
       "0    abandon     -2\n",
       "1  abandoned     -2\n",
       "2   abandons     -2"
      ]
     },
     "execution_count": 5,
     "metadata": {},
     "output_type": "execute_result"
    }
   ],
   "source": [
    "afinn_lexicon = pd.read_csv('lexicons/AFINN-en-165.txt', delimiter='\\t', header = None, names=['term','score'])\n",
    "print(afinn_lexicon.shape)\n",
    "afinn_lexicon.head(3)"
   ]
  },
  {
   "cell_type": "markdown",
   "metadata": {},
   "source": [
    "## Сформируем обучающую выборку"
   ]
  },
  {
   "cell_type": "code",
   "execution_count": 6,
   "metadata": {},
   "outputs": [],
   "source": [
    "afinn_word2index = dict(zip(afinn_lexicon['term'],list(afinn_lexicon.index)))\n",
    "\n",
    "X = np.zeros((len(afinn_word2index), 400))\n",
    "Y = afinn_lexicon['score'].values\n",
    "\n",
    "for word, index in afinn_word2index.items():\n",
    "    if word in word2vec:\n",
    "        X[index,:]=word2vec[word]"
   ]
  },
  {
   "cell_type": "code",
   "execution_count": 7,
   "metadata": {},
   "outputs": [],
   "source": [
    "def make_model(optimizer='adam', loss='mse', activation='relu', layer_size=200, use_third_layer=False, dropout = 0):\n",
    "    model = Sequential()\n",
    "    model.add(Dense(layer_size, activation=activation, input_shape=(400,)))\n",
    "    model.add(Dropout(0.2))\n",
    "    model.add(Dense(layer_size, activation =activation))\n",
    "    if use_third_layer:\n",
    "        model.add(Dense(25, activation=activation))\n",
    "    model.add(Dense(1))\n",
    "    model.compile(optimizer, loss)\n",
    "    \n",
    "    return model"
   ]
  },
  {
   "cell_type": "code",
   "execution_count": 8,
   "metadata": {
    "scrolled": true
   },
   "outputs": [
    {
     "data": {
      "text/plain": [
       "GridSearchCV(cv=KFold(n_splits=5, random_state=42, shuffle=True),\n",
       "       error_score='raise',\n",
       "       estimator=<keras.wrappers.scikit_learn.KerasRegressor object at 0x7f8ebc6aa400>,\n",
       "       fit_params=None, iid=True, n_jobs=1,\n",
       "       param_grid={'optimizer': ['adam'], 'loss': ['mse'], 'activation': ['relu'], 'layer_size': [200], 'use_third_layer': [True, False], 'dropout': [0.1, 0.2, 0.3], 'epochs': [60]},\n",
       "       pre_dispatch='2*n_jobs', refit=True, return_train_score=False,\n",
       "       scoring='neg_mean_squared_error', verbose=0)"
      ]
     },
     "execution_count": 8,
     "metadata": {},
     "output_type": "execute_result"
    }
   ],
   "source": [
    "my_regressor = KerasRegressor(make_model, batch_size=32)\n",
    "validator = GridSearchCV(my_regressor,\n",
    "                         param_grid={'optimizer':['adam'],\n",
    "                                     'loss':['mse'],\n",
    "                                     'activation':['relu'],\n",
    "                                     'layer_size':[200],\n",
    "                                     'use_third_layer':[True,False],\n",
    "                                     'dropout':[0.1,0.2,0.3],\n",
    "                                     'epochs': [60]\n",
    "                                    },\n",
    "                         scoring='neg_mean_squared_error',\n",
    "                         n_jobs=1,\n",
    "                         return_train_score=False,\n",
    "                         cv=kfold\n",
    "                        )\n",
    "validator.fit(X,Y,verbose=0)"
   ]
  },
  {
   "cell_type": "markdown",
   "metadata": {},
   "source": [
    "## Обучим модель"
   ]
  },
  {
   "cell_type": "markdown",
   "metadata": {},
   "source": [
    "![title](images/lex_extend_arch.png)"
   ]
  },
  {
   "cell_type": "code",
   "execution_count": 14,
   "metadata": {},
   "outputs": [
    {
     "data": {
      "text/plain": [
       "<keras.callbacks.History at 0x7f8e7cb2ea58>"
      ]
     },
     "execution_count": 14,
     "metadata": {},
     "output_type": "execute_result"
    }
   ],
   "source": [
    "model = make_model(dropout=0.3)\n",
    "model.fit(X,Y, epochs=60, verbose=0)"
   ]
  },
  {
   "cell_type": "code",
   "execution_count": 15,
   "metadata": {},
   "outputs": [],
   "source": [
    "afinn_map = dict(afinn_lexicon[['term', 'score']].values)\n",
    "extended_afinn = {}\n",
    "for word in tokenizer.word_index.keys():\n",
    "    if word in word2vec:\n",
    "        if word in afinn_map:\n",
    "            extended_afinn[word] = afinn_map[word]\n",
    "        else:\n",
    "            extended_afinn[word]=model.predict(word2vec[word].reshape(1,400)).reshape(-1)[0]\n",
    "# pickle.dump(extended_afinn, open( \"features/extended_afinn.p\", \"wb\" ) )"
   ]
  },
  {
   "cell_type": "code",
   "execution_count": null,
   "metadata": {},
   "outputs": [],
   "source": []
  }
 ],
 "metadata": {
  "kernelspec": {
   "display_name": "Python [conda root]",
   "language": "python",
   "name": "conda-root-py"
  },
  "language_info": {
   "codemirror_mode": {
    "name": "ipython",
    "version": 3
   },
   "file_extension": ".py",
   "mimetype": "text/x-python",
   "name": "python",
   "nbconvert_exporter": "python",
   "pygments_lexer": "ipython3",
   "version": "3.6.2"
  }
 },
 "nbformat": 4,
 "nbformat_minor": 2
}
